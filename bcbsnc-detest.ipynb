{
 "cells": [
  {
   "cell_type": "code",
   "execution_count": null,
   "metadata": {},
   "outputs": [],
   "source": [
    "import pyodbc\n",
    "import csv\n",
    "\n",
    "import getpass\n",
    "\n",
    "pswd = getpass.getpass('Password:')\n",
    "\n",
    "cnxn = pyodbc.connect(\"DRIVER={MySQL ODBC 8.0 ANSI Driver}; SERVER=bcbsnc-de-test.crlleswktbdf.us-east-1.rds.amazonaws.com;DATABASE=detest; UID=root; PASSWORD=\" + pswd + \";\") \n",
    "crsr = cnxn.cursor()\n"
   ]
  },
  {
   "cell_type": "code",
   "execution_count": null,
   "metadata": {},
   "outputs": [],
   "source": [
    "querystring = \"drop table if exists source_table\"\n",
    "crsr.execute(querystring)\n",
    "cnxn.commit()\n",
    "querystring = \"create table source_table (id mediumint, date datetime, name varchar(50), `my comments` varchar(50))\"\n",
    "crsr.execute(querystring)\n",
    "cnxn.commit()"
   ]
  },
  {
   "cell_type": "code",
   "execution_count": null,
   "metadata": {
    "collapsed": true
   },
   "outputs": [],
   "source": [
    "querystring = \"drop table if exists customer\"\n",
    "crsr.execute(querystring)\n",
    "cnxn.commit()\n",
    "querystring = \"create table customer (id int PRIMARY KEY, name varchar(50), initials varchar(3))\"\n",
    "crsr.execute(querystring)\n",
    "cnxn.commit()"
   ]
  },
  {
   "cell_type": "code",
   "execution_count": null,
   "metadata": {},
   "outputs": [],
   "source": [
    "querystring = \"insert into source_table values (1, '2019-01-01', 'John Doe', 'Great customer')\"\n",
    "crsr.execute(querystring)\n",
    "cnxn.commit()"
   ]
  },
  {
   "cell_type": "code",
   "execution_count": null,
   "metadata": {},
   "outputs": [],
   "source": [
    "querystring = \"insert into customer values (1, 'John Doe', 'GAB')\"\n",
    "crsr.execute(querystring)\n",
    "cnxn.commit()"
   ]
  },
  {
   "cell_type": "code",
   "execution_count": null,
   "metadata": {
    "collapsed": true
   },
   "outputs": [],
   "source": [
    "import getpass\n",
    "\n",
    "pswd = getpass.getpass('Password:')\n",
    "querystring = \"GRANT SELECT ON *.* TO 'guest' IDENTIFIED BY '\" + pswd + \"'\"\n",
    "crsr.execute(querystring)\n",
    "cnxn.commit()"
   ]
  },
  {
   "cell_type": "code",
   "execution_count": null,
   "metadata": {
    "collapsed": true
   },
   "outputs": [],
   "source": [
    "querystring = \"GRANT ALL ON detest.customer TO 'guest'\";\n",
    "crsr.execute(querystring)\n",
    "cnxn.commit()"
   ]
  },
  {
   "cell_type": "code",
   "execution_count": null,
   "metadata": {},
   "outputs": [],
   "source": [
    "import getpass\n",
    "\n",
    "pswd2 = getpass.getpass('Password:')\n",
    "\n",
    "cnxn = pyodbc.connect(\"DRIVER={MySQL ODBC 8.0 ANSI Driver}; SERVER=bcbsnc-de-test.crlleswktbdf.us-east-1.rds.amazonaws.com;DATABASE=detest; UID=guest; PASSWORD=\" + pswd2 + \";\") \n",
    "\n",
    "crsr2 = cnxn.cursor()\n",
    "querystring2 = \"alter table customer add column (alt_id int)\"\n",
    "\n",
    "crsr2.execute(querystring2)\n",
    "\n",
    "\n",
    "result2 = crsr2.fetchall()\n",
    "print(result2)"
   ]
  },
  {
   "cell_type": "markdown",
   "metadata": {},
   "source": [
    "/*querystring2 = \"alter table customer drop column (alt_id int)\"*/"
   ]
  },
  {
   "cell_type": "code",
   "execution_count": null,
   "metadata": {},
   "outputs": [],
   "source": [
    "querystring = \"select * from source_table\"\n",
    "crsr.execute(querystring)\n",
    "result = crsr.fetchall()\n",
    "print(result)\n",
    "cnxn.commit()"
   ]
  },
  {
   "cell_type": "code",
   "execution_count": null,
   "metadata": {},
   "outputs": [],
   "source": [
    "querystring = \"describe customer\"\n",
    "crsr.execute(querystring)\n",
    "result = crsr.fetchall()\n",
    "print(result)\n",
    "result\n",
    "cnxn.commit()"
   ]
  },
  {
   "cell_type": "code",
   "execution_count": null,
   "metadata": {},
   "outputs": [],
   "source": [
    "result"
   ]
  },
  {
   "cell_type": "code",
   "execution_count": null,
   "metadata": {},
   "outputs": [],
   "source": [
    "querystring = \"create table reserved_word_list (reserved_word varchar(50))\"\n",
    "crsr.execute(querystring)\n",
    "cnxn.commit()\n"
   ]
  },
  {
   "cell_type": "code",
   "execution_count": null,
   "metadata": {},
   "outputs": [],
   "source": [
    "querystring = 'insert into reserved_word_list values(\"ALL\"), (\"ALTER\"), (\"AND\"), (\"ARRAY\"), (\"AS\"), (\"AUTHORIZATION\"), (\"BETWEEN\"), (\"BIGINT\"), (\"BINARY\"), (\"BOOLEAN\"), (\"BOTH\"), (\"BY\"), (\"CASE\"), (\"CAST\"), (\"CHAR\"), (\"COLUMN\"), (\"CONF\"), (\"CREATE\"), (\"CROSS\"), (\"CUBE\"), (\"CURRENT\"), (\"CURRENT_DATE\"), (\"CURRENT_TIMESTAMP\"), (\"CURSOR\"), (\"DATABASE\"), (\"DATE\"), (\"DECIMAL\"), (\"DELETE\"), (\"DESCRIBE\"), (\"DISTINCT\"), (\"DOUBLE\"), (\"DROP\"), (\"ELSE\"), (\"END\"), (\"EXCHANGE\"), (\"EXISTS\"), (\"EXTENDED\"), (\"EXTERNAL\"), (\"FALSE\"), (\"FETCH\"), (\"FLOAT\"), (\"FOLLOWING\"), (\"FOR\"), (\"FROM\"), (\"FULL\"), (\"FUNCTION\"), (\"GRANT\"), (\"GROUP\"), (\"GROUPING\"), (\"HAVING\"), (\"IF\"), (\"IMPORT\"), (\"IN\"), (\"INNER\"), (\"INSERT\"), (\"INT\"), (\"INTERSECT\"), (\"INTERVAL\"), (\"INTO\"), (\"IS\"), (\"JOIN\"), (\"LATERAL\"), (\"LEFT\"), (\"LESS\"), (\"LIKE\"), (\"LOCAL\"), (\"MACRO\"), (\"MAP\"), (\"MORE\"), (\"NONE\"), (\"NOT\"), (\"NULL\"), (\"OF\"), (\"ON\"), (\"OR\"), (\"ORDER\"), (\"OUT\"), (\"OUTER\"), (\"OVER\"), (\"PARTIALSCAN\"), (\"PARTITION\"), (\"PERCENT\"), (\"PRECEDING\"), (\"PRESERVE\"), (\"PROCEDURE\"), (\"RANGE\"), (\"READS\"), (\"REDUCE\"), (\"REVOKE\"), (\"RIGHT\"), (\"ROLLUP\"), (\"ROW\"), (\"ROWS\"), (\"SELECT\"), (\"SET\"), (\"SMALLINT\"), (\"TABLE\"), (\"TABLESAMPLE\"), (\"THEN\"), (\"TIMESTAMP\"), (\"TO\"), (\"TRANSFORM\"), (\"TRIGGER\"), (\"TRUE\"), (\"TRUNCATE\"), (\"UNBOUNDED\"), (\"UNION\"), (\"UNIQUEJOIN\"), (\"UPDATE\"), (\"USER\"), (\"USING\"), (\"UTC_TMESTAMP\"), (\"VALUES\"), (\"VARCHAR\"), (\"WHEN\"), (\"WHERE\"), (\"WINDOW\"), (\"WITH\")'\n",
    "crsr.execute(querystring)\n",
    "cnxn.commit()"
   ]
  },
  {
   "cell_type": "code",
   "execution_count": null,
   "metadata": {},
   "outputs": [],
   "source": [
    "querystring = \"select * from reserved_word_list\"\n",
    "crsr.execute(querystring)\n",
    "result = crsr.fetchall()\n",
    "print(result)\n",
    "cnxn.commit()"
   ]
  }
 ],
 "metadata": {
  "kernelspec": {
   "display_name": "Python 3",
   "language": "python",
   "name": "python3"
  },
  "language_info": {
   "codemirror_mode": {
    "name": "ipython",
    "version": 3
   },
   "file_extension": ".py",
   "mimetype": "text/x-python",
   "name": "python",
   "nbconvert_exporter": "python",
   "pygments_lexer": "ipython3",
   "version": "3.6.2"
  }
 },
 "nbformat": 4,
 "nbformat_minor": 2
}
